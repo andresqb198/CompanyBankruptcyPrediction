{
 "cells": [
  {
   "cell_type": "markdown",
   "metadata": {
    "id": "hL4MMKnACl49"
   },
   "source": [
    "Correr cada linea es importante para ver la funcionalidad de los scripts."
   ]
  },
  {
   "cell_type": "code",
   "execution_count": 3,
   "metadata": {
    "id": "d69FAFCBCCda"
   },
   "outputs": [],
   "source": [
    "import numpy as np\n",
    "from scipy.io import arff\n",
    "import pandas as pd\n",
    "import matplotlib.pyplot as plt\n",
    "import seaborn as sns\n",
    "from sklearn.datasets import load_digits\n",
    "from sklearn.ensemble import GradientBoostingClassifier\n",
    "from sklearn.model_selection import KFold\n",
    "from sklearn import metrics\n",
    "from sklearn.metrics import confusion_matrix\n",
    "import seaborn as sns\n",
    "import matplotlib.pyplot as plt\n",
    "from sklearn.preprocessing import StandardScaler\n",
    "from scipy.spatial.distance import euclidean\n",
    "import itertools\n",
    "import io\n",
    "from sklearn.svm import SVC\n",
    "from sklearn.metrics import mean_absolute_error, accuracy_score, mean_squared_error\n",
    "from sklearn.neural_network import MLPClassifier\n",
    "from sklearn import metrics\n",
    "from sklearn.ensemble import RandomForestClassifier\n",
    "from sklearn.metrics import classification_report\n",
    "from sklearn.metrics import recall_score\n",
    "from sklearn.metrics import precision_score\n",
    "from sklearn.metrics import f1_score\n",
    "from sklearn.discriminant_analysis import QuadraticDiscriminantAnalysis\n",
    "from IPython.display import clear_output\n",
    "from sklearn.neighbors import KernelDensity\n",
    "from tabulate import tabulate\n",
    "# from mlxtend.feature_selection import SequentialFeatureSelector as SFS\n"
   ]
  },
  {
   "cell_type": "markdown",
   "metadata": {
    "id": "yHDbrGhxJK8S"
   },
   "source": [
    "# ANALISIS DE LOS DATOS"
   ]
  },
  {
   "cell_type": "code",
   "execution_count": 5,
   "metadata": {
    "colab": {
     "base_uri": "https://localhost:8080/",
     "height": 224
    },
    "id": "bN_YXfiFHcci",
    "outputId": "d20a4ca5-9cf2-4890-f472-5b97d1df2f32"
   },
   "outputs": [
    {
     "data": {
      "text/html": [
       "<div>\n",
       "<style scoped>\n",
       "    .dataframe tbody tr th:only-of-type {\n",
       "        vertical-align: middle;\n",
       "    }\n",
       "\n",
       "    .dataframe tbody tr th {\n",
       "        vertical-align: top;\n",
       "    }\n",
       "\n",
       "    .dataframe thead th {\n",
       "        text-align: right;\n",
       "    }\n",
       "</style>\n",
       "<table border=\"1\" class=\"dataframe\">\n",
       "  <thead>\n",
       "    <tr style=\"text-align: right;\">\n",
       "      <th></th>\n",
       "      <th>0</th>\n",
       "      <th>1</th>\n",
       "      <th>2</th>\n",
       "      <th>3</th>\n",
       "      <th>4</th>\n",
       "      <th>5</th>\n",
       "      <th>6</th>\n",
       "      <th>7</th>\n",
       "      <th>8</th>\n",
       "      <th>9</th>\n",
       "      <th>...</th>\n",
       "      <th>86</th>\n",
       "      <th>87</th>\n",
       "      <th>88</th>\n",
       "      <th>89</th>\n",
       "      <th>90</th>\n",
       "      <th>91</th>\n",
       "      <th>92</th>\n",
       "      <th>93</th>\n",
       "      <th>94</th>\n",
       "      <th>95</th>\n",
       "    </tr>\n",
       "  </thead>\n",
       "  <tbody>\n",
       "    <tr>\n",
       "      <th>0</th>\n",
       "      <td>1</td>\n",
       "      <td>0.370594</td>\n",
       "      <td>0.424389</td>\n",
       "      <td>0.405750</td>\n",
       "      <td>0.601457</td>\n",
       "      <td>0.601457</td>\n",
       "      <td>0.998969</td>\n",
       "      <td>0.796887</td>\n",
       "      <td>0.808809</td>\n",
       "      <td>0.302646</td>\n",
       "      <td>...</td>\n",
       "      <td>0.716845</td>\n",
       "      <td>0.009219</td>\n",
       "      <td>0.622879</td>\n",
       "      <td>0.601453</td>\n",
       "      <td>0.827890</td>\n",
       "      <td>0.290202</td>\n",
       "      <td>0.026601</td>\n",
       "      <td>0.564050</td>\n",
       "      <td>1</td>\n",
       "      <td>0.016469</td>\n",
       "    </tr>\n",
       "    <tr>\n",
       "      <th>1</th>\n",
       "      <td>1</td>\n",
       "      <td>0.464291</td>\n",
       "      <td>0.538214</td>\n",
       "      <td>0.516730</td>\n",
       "      <td>0.610235</td>\n",
       "      <td>0.610235</td>\n",
       "      <td>0.998946</td>\n",
       "      <td>0.797380</td>\n",
       "      <td>0.809301</td>\n",
       "      <td>0.303556</td>\n",
       "      <td>...</td>\n",
       "      <td>0.795297</td>\n",
       "      <td>0.008323</td>\n",
       "      <td>0.623652</td>\n",
       "      <td>0.610237</td>\n",
       "      <td>0.839969</td>\n",
       "      <td>0.283846</td>\n",
       "      <td>0.264577</td>\n",
       "      <td>0.570175</td>\n",
       "      <td>1</td>\n",
       "      <td>0.020794</td>\n",
       "    </tr>\n",
       "    <tr>\n",
       "      <th>2</th>\n",
       "      <td>1</td>\n",
       "      <td>0.426071</td>\n",
       "      <td>0.499019</td>\n",
       "      <td>0.472295</td>\n",
       "      <td>0.601450</td>\n",
       "      <td>0.601364</td>\n",
       "      <td>0.998857</td>\n",
       "      <td>0.796403</td>\n",
       "      <td>0.808388</td>\n",
       "      <td>0.302035</td>\n",
       "      <td>...</td>\n",
       "      <td>0.774670</td>\n",
       "      <td>0.040003</td>\n",
       "      <td>0.623841</td>\n",
       "      <td>0.601449</td>\n",
       "      <td>0.836774</td>\n",
       "      <td>0.290189</td>\n",
       "      <td>0.026555</td>\n",
       "      <td>0.563706</td>\n",
       "      <td>1</td>\n",
       "      <td>0.016474</td>\n",
       "    </tr>\n",
       "    <tr>\n",
       "      <th>3</th>\n",
       "      <td>1</td>\n",
       "      <td>0.399844</td>\n",
       "      <td>0.451265</td>\n",
       "      <td>0.457733</td>\n",
       "      <td>0.583541</td>\n",
       "      <td>0.583541</td>\n",
       "      <td>0.998700</td>\n",
       "      <td>0.796967</td>\n",
       "      <td>0.808966</td>\n",
       "      <td>0.303350</td>\n",
       "      <td>...</td>\n",
       "      <td>0.739555</td>\n",
       "      <td>0.003252</td>\n",
       "      <td>0.622929</td>\n",
       "      <td>0.583538</td>\n",
       "      <td>0.834697</td>\n",
       "      <td>0.281721</td>\n",
       "      <td>0.026697</td>\n",
       "      <td>0.564663</td>\n",
       "      <td>1</td>\n",
       "      <td>0.023982</td>\n",
       "    </tr>\n",
       "    <tr>\n",
       "      <th>4</th>\n",
       "      <td>1</td>\n",
       "      <td>0.465022</td>\n",
       "      <td>0.538432</td>\n",
       "      <td>0.522298</td>\n",
       "      <td>0.598783</td>\n",
       "      <td>0.598783</td>\n",
       "      <td>0.998973</td>\n",
       "      <td>0.797366</td>\n",
       "      <td>0.809304</td>\n",
       "      <td>0.303475</td>\n",
       "      <td>...</td>\n",
       "      <td>0.795016</td>\n",
       "      <td>0.003878</td>\n",
       "      <td>0.623521</td>\n",
       "      <td>0.598782</td>\n",
       "      <td>0.839973</td>\n",
       "      <td>0.278514</td>\n",
       "      <td>0.024752</td>\n",
       "      <td>0.575617</td>\n",
       "      <td>1</td>\n",
       "      <td>0.035490</td>\n",
       "    </tr>\n",
       "  </tbody>\n",
       "</table>\n",
       "<p>5 rows × 96 columns</p>\n",
       "</div>"
      ],
      "text/plain": [
       "   0         1         2         3         4         5         6         7  \\\n",
       "0  1  0.370594  0.424389  0.405750  0.601457  0.601457  0.998969  0.796887   \n",
       "1  1  0.464291  0.538214  0.516730  0.610235  0.610235  0.998946  0.797380   \n",
       "2  1  0.426071  0.499019  0.472295  0.601450  0.601364  0.998857  0.796403   \n",
       "3  1  0.399844  0.451265  0.457733  0.583541  0.583541  0.998700  0.796967   \n",
       "4  1  0.465022  0.538432  0.522298  0.598783  0.598783  0.998973  0.797366   \n",
       "\n",
       "          8         9  ...        86        87        88        89        90  \\\n",
       "0  0.808809  0.302646  ...  0.716845  0.009219  0.622879  0.601453  0.827890   \n",
       "1  0.809301  0.303556  ...  0.795297  0.008323  0.623652  0.610237  0.839969   \n",
       "2  0.808388  0.302035  ...  0.774670  0.040003  0.623841  0.601449  0.836774   \n",
       "3  0.808966  0.303350  ...  0.739555  0.003252  0.622929  0.583538  0.834697   \n",
       "4  0.809304  0.303475  ...  0.795016  0.003878  0.623521  0.598782  0.839973   \n",
       "\n",
       "         91        92        93  94        95  \n",
       "0  0.290202  0.026601  0.564050   1  0.016469  \n",
       "1  0.283846  0.264577  0.570175   1  0.020794  \n",
       "2  0.290189  0.026555  0.563706   1  0.016474  \n",
       "3  0.281721  0.026697  0.564663   1  0.023982  \n",
       "4  0.278514  0.024752  0.575617   1  0.035490  \n",
       "\n",
       "[5 rows x 96 columns]"
      ]
     },
     "execution_count": 5,
     "metadata": {},
     "output_type": "execute_result"
    }
   ],
   "source": [
    "bankruptcy_data = pd.read_parquet('data/clean_data.parquet')\n",
    "bankruptcy_data.head()"
   ]
  },
  {
   "cell_type": "code",
   "execution_count": 6,
   "metadata": {},
   "outputs": [],
   "source": [
    "bankruptcy_data.columns = bankruptcy_data.columns.str.lstrip()"
   ]
  },
  {
   "cell_type": "code",
   "execution_count": 7,
   "metadata": {},
   "outputs": [
    {
     "data": {
      "text/html": [
       "<div>\n",
       "<style scoped>\n",
       "    .dataframe tbody tr th:only-of-type {\n",
       "        vertical-align: middle;\n",
       "    }\n",
       "\n",
       "    .dataframe tbody tr th {\n",
       "        vertical-align: top;\n",
       "    }\n",
       "\n",
       "    .dataframe thead th {\n",
       "        text-align: right;\n",
       "    }\n",
       "</style>\n",
       "<table border=\"1\" class=\"dataframe\">\n",
       "  <thead>\n",
       "    <tr style=\"text-align: right;\">\n",
       "      <th></th>\n",
       "      <th>0</th>\n",
       "      <th>1</th>\n",
       "      <th>2</th>\n",
       "      <th>3</th>\n",
       "      <th>4</th>\n",
       "      <th>5</th>\n",
       "      <th>6</th>\n",
       "      <th>7</th>\n",
       "      <th>8</th>\n",
       "      <th>9</th>\n",
       "      <th>...</th>\n",
       "      <th>86</th>\n",
       "      <th>87</th>\n",
       "      <th>88</th>\n",
       "      <th>89</th>\n",
       "      <th>90</th>\n",
       "      <th>91</th>\n",
       "      <th>92</th>\n",
       "      <th>93</th>\n",
       "      <th>94</th>\n",
       "      <th>95</th>\n",
       "    </tr>\n",
       "  </thead>\n",
       "  <tbody>\n",
       "    <tr>\n",
       "      <th>0</th>\n",
       "      <td>1</td>\n",
       "      <td>0.370594</td>\n",
       "      <td>0.424389</td>\n",
       "      <td>0.405750</td>\n",
       "      <td>0.601457</td>\n",
       "      <td>0.601457</td>\n",
       "      <td>0.998969</td>\n",
       "      <td>0.796887</td>\n",
       "      <td>0.808809</td>\n",
       "      <td>0.302646</td>\n",
       "      <td>...</td>\n",
       "      <td>0.716845</td>\n",
       "      <td>0.009219</td>\n",
       "      <td>0.622879</td>\n",
       "      <td>0.601453</td>\n",
       "      <td>0.827890</td>\n",
       "      <td>0.290202</td>\n",
       "      <td>0.026601</td>\n",
       "      <td>0.564050</td>\n",
       "      <td>1</td>\n",
       "      <td>0.016469</td>\n",
       "    </tr>\n",
       "    <tr>\n",
       "      <th>1</th>\n",
       "      <td>1</td>\n",
       "      <td>0.464291</td>\n",
       "      <td>0.538214</td>\n",
       "      <td>0.516730</td>\n",
       "      <td>0.610235</td>\n",
       "      <td>0.610235</td>\n",
       "      <td>0.998946</td>\n",
       "      <td>0.797380</td>\n",
       "      <td>0.809301</td>\n",
       "      <td>0.303556</td>\n",
       "      <td>...</td>\n",
       "      <td>0.795297</td>\n",
       "      <td>0.008323</td>\n",
       "      <td>0.623652</td>\n",
       "      <td>0.610237</td>\n",
       "      <td>0.839969</td>\n",
       "      <td>0.283846</td>\n",
       "      <td>0.264577</td>\n",
       "      <td>0.570175</td>\n",
       "      <td>1</td>\n",
       "      <td>0.020794</td>\n",
       "    </tr>\n",
       "    <tr>\n",
       "      <th>2</th>\n",
       "      <td>1</td>\n",
       "      <td>0.426071</td>\n",
       "      <td>0.499019</td>\n",
       "      <td>0.472295</td>\n",
       "      <td>0.601450</td>\n",
       "      <td>0.601364</td>\n",
       "      <td>0.998857</td>\n",
       "      <td>0.796403</td>\n",
       "      <td>0.808388</td>\n",
       "      <td>0.302035</td>\n",
       "      <td>...</td>\n",
       "      <td>0.774670</td>\n",
       "      <td>0.040003</td>\n",
       "      <td>0.623841</td>\n",
       "      <td>0.601449</td>\n",
       "      <td>0.836774</td>\n",
       "      <td>0.290189</td>\n",
       "      <td>0.026555</td>\n",
       "      <td>0.563706</td>\n",
       "      <td>1</td>\n",
       "      <td>0.016474</td>\n",
       "    </tr>\n",
       "    <tr>\n",
       "      <th>3</th>\n",
       "      <td>1</td>\n",
       "      <td>0.399844</td>\n",
       "      <td>0.451265</td>\n",
       "      <td>0.457733</td>\n",
       "      <td>0.583541</td>\n",
       "      <td>0.583541</td>\n",
       "      <td>0.998700</td>\n",
       "      <td>0.796967</td>\n",
       "      <td>0.808966</td>\n",
       "      <td>0.303350</td>\n",
       "      <td>...</td>\n",
       "      <td>0.739555</td>\n",
       "      <td>0.003252</td>\n",
       "      <td>0.622929</td>\n",
       "      <td>0.583538</td>\n",
       "      <td>0.834697</td>\n",
       "      <td>0.281721</td>\n",
       "      <td>0.026697</td>\n",
       "      <td>0.564663</td>\n",
       "      <td>1</td>\n",
       "      <td>0.023982</td>\n",
       "    </tr>\n",
       "    <tr>\n",
       "      <th>4</th>\n",
       "      <td>1</td>\n",
       "      <td>0.465022</td>\n",
       "      <td>0.538432</td>\n",
       "      <td>0.522298</td>\n",
       "      <td>0.598783</td>\n",
       "      <td>0.598783</td>\n",
       "      <td>0.998973</td>\n",
       "      <td>0.797366</td>\n",
       "      <td>0.809304</td>\n",
       "      <td>0.303475</td>\n",
       "      <td>...</td>\n",
       "      <td>0.795016</td>\n",
       "      <td>0.003878</td>\n",
       "      <td>0.623521</td>\n",
       "      <td>0.598782</td>\n",
       "      <td>0.839973</td>\n",
       "      <td>0.278514</td>\n",
       "      <td>0.024752</td>\n",
       "      <td>0.575617</td>\n",
       "      <td>1</td>\n",
       "      <td>0.035490</td>\n",
       "    </tr>\n",
       "  </tbody>\n",
       "</table>\n",
       "<p>5 rows × 96 columns</p>\n",
       "</div>"
      ],
      "text/plain": [
       "   0         1         2         3         4         5         6         7  \\\n",
       "0  1  0.370594  0.424389  0.405750  0.601457  0.601457  0.998969  0.796887   \n",
       "1  1  0.464291  0.538214  0.516730  0.610235  0.610235  0.998946  0.797380   \n",
       "2  1  0.426071  0.499019  0.472295  0.601450  0.601364  0.998857  0.796403   \n",
       "3  1  0.399844  0.451265  0.457733  0.583541  0.583541  0.998700  0.796967   \n",
       "4  1  0.465022  0.538432  0.522298  0.598783  0.598783  0.998973  0.797366   \n",
       "\n",
       "          8         9  ...        86        87        88        89        90  \\\n",
       "0  0.808809  0.302646  ...  0.716845  0.009219  0.622879  0.601453  0.827890   \n",
       "1  0.809301  0.303556  ...  0.795297  0.008323  0.623652  0.610237  0.839969   \n",
       "2  0.808388  0.302035  ...  0.774670  0.040003  0.623841  0.601449  0.836774   \n",
       "3  0.808966  0.303350  ...  0.739555  0.003252  0.622929  0.583538  0.834697   \n",
       "4  0.809304  0.303475  ...  0.795016  0.003878  0.623521  0.598782  0.839973   \n",
       "\n",
       "         91        92        93  94        95  \n",
       "0  0.290202  0.026601  0.564050   1  0.016469  \n",
       "1  0.283846  0.264577  0.570175   1  0.020794  \n",
       "2  0.290189  0.026555  0.563706   1  0.016474  \n",
       "3  0.281721  0.026697  0.564663   1  0.023982  \n",
       "4  0.278514  0.024752  0.575617   1  0.035490  \n",
       "\n",
       "[5 rows x 96 columns]"
      ]
     },
     "execution_count": 7,
     "metadata": {},
     "output_type": "execute_result"
    }
   ],
   "source": [
    "bankruptcy_data.columns = [c.replace(' ', '_') for c in bankruptcy_data.columns]\n",
    "bankruptcy_data.head()"
   ]
  },
  {
   "cell_type": "markdown",
   "metadata": {
    "id": "J4GXllPK_eFf"
   },
   "source": [
    "Dimensiones del dataset:"
   ]
  },
  {
   "cell_type": "code",
   "execution_count": 8,
   "metadata": {
    "colab": {
     "base_uri": "https://localhost:8080/"
    },
    "id": "ruDRa5F1hX1X",
    "outputId": "792fec3d-b299-4508-a0da-3cda5e29dae7"
   },
   "outputs": [
    {
     "data": {
      "text/plain": [
       "(6819, 96)"
      ]
     },
     "execution_count": 8,
     "metadata": {},
     "output_type": "execute_result"
    }
   ],
   "source": [
    "bankruptcy_data.shape"
   ]
  },
  {
   "cell_type": "markdown",
   "metadata": {
    "id": "XDUfCWxo_aYy"
   },
   "source": [
    "Mas informacion del dataset:"
   ]
  },
  {
   "cell_type": "code",
   "execution_count": 9,
   "metadata": {
    "colab": {
     "base_uri": "https://localhost:8080/"
    },
    "id": "SLKi8bmiOjvO",
    "outputId": "8aa90c0c-bcd9-475c-c051-c570d2568712"
   },
   "outputs": [
    {
     "name": "stdout",
     "output_type": "stream",
     "text": [
      "<class 'pandas.core.frame.DataFrame'>\n",
      "RangeIndex: 6819 entries, 0 to 6818\n",
      "Data columns (total 96 columns):\n",
      " #   Column  Non-Null Count  Dtype  \n",
      "---  ------  --------------  -----  \n",
      " 0   0       6819 non-null   int64  \n",
      " 1   1       6819 non-null   float64\n",
      " 2   2       6819 non-null   float64\n",
      " 3   3       6819 non-null   float64\n",
      " 4   4       6819 non-null   float64\n",
      " 5   5       6819 non-null   float64\n",
      " 6   6       6819 non-null   float64\n",
      " 7   7       6819 non-null   float64\n",
      " 8   8       6819 non-null   float64\n",
      " 9   9       6819 non-null   float64\n",
      " 10  10      6819 non-null   float64\n",
      " 11  11      6819 non-null   float64\n",
      " 12  12      6819 non-null   float64\n",
      " 13  13      6819 non-null   float64\n",
      " 14  14      6819 non-null   float64\n",
      " 15  15      6819 non-null   float64\n",
      " 16  16      6819 non-null   float64\n",
      " 17  17      6819 non-null   float64\n",
      " 18  18      6819 non-null   float64\n",
      " 19  19      6819 non-null   float64\n",
      " 20  20      6819 non-null   float64\n",
      " 21  21      6819 non-null   float64\n",
      " 22  22      6819 non-null   float64\n",
      " 23  23      6819 non-null   float64\n",
      " 24  24      6819 non-null   float64\n",
      " 25  25      6819 non-null   float64\n",
      " 26  26      6819 non-null   float64\n",
      " 27  27      6819 non-null   float64\n",
      " 28  28      6819 non-null   float64\n",
      " 29  29      6819 non-null   float64\n",
      " 30  30      6819 non-null   float64\n",
      " 31  31      6819 non-null   float64\n",
      " 32  32      6819 non-null   float64\n",
      " 33  33      6819 non-null   float64\n",
      " 34  34      6819 non-null   float64\n",
      " 35  35      6819 non-null   float64\n",
      " 36  36      6819 non-null   float64\n",
      " 37  37      6819 non-null   float64\n",
      " 38  38      6819 non-null   float64\n",
      " 39  39      6819 non-null   float64\n",
      " 40  40      6819 non-null   float64\n",
      " 41  41      6819 non-null   float64\n",
      " 42  42      6819 non-null   float64\n",
      " 43  43      6819 non-null   float64\n",
      " 44  44      6819 non-null   float64\n",
      " 45  45      6819 non-null   float64\n",
      " 46  46      6819 non-null   float64\n",
      " 47  47      6819 non-null   float64\n",
      " 48  48      6819 non-null   float64\n",
      " 49  49      6819 non-null   float64\n",
      " 50  50      6819 non-null   float64\n",
      " 51  51      6819 non-null   float64\n",
      " 52  52      6819 non-null   float64\n",
      " 53  53      6819 non-null   float64\n",
      " 54  54      6819 non-null   float64\n",
      " 55  55      6819 non-null   float64\n",
      " 56  56      6819 non-null   float64\n",
      " 57  57      6819 non-null   float64\n",
      " 58  58      6819 non-null   float64\n",
      " 59  59      6819 non-null   float64\n",
      " 60  60      6819 non-null   float64\n",
      " 61  61      6819 non-null   float64\n",
      " 62  62      6819 non-null   float64\n",
      " 63  63      6819 non-null   float64\n",
      " 64  64      6819 non-null   float64\n",
      " 65  65      6819 non-null   float64\n",
      " 66  66      6819 non-null   float64\n",
      " 67  67      6819 non-null   float64\n",
      " 68  68      6819 non-null   float64\n",
      " 69  69      6819 non-null   float64\n",
      " 70  70      6819 non-null   float64\n",
      " 71  71      6819 non-null   float64\n",
      " 72  72      6819 non-null   float64\n",
      " 73  73      6819 non-null   float64\n",
      " 74  74      6819 non-null   float64\n",
      " 75  75      6819 non-null   float64\n",
      " 76  76      6819 non-null   float64\n",
      " 77  77      6819 non-null   float64\n",
      " 78  78      6819 non-null   float64\n",
      " 79  79      6819 non-null   float64\n",
      " 80  80      6819 non-null   float64\n",
      " 81  81      6819 non-null   float64\n",
      " 82  82      6819 non-null   float64\n",
      " 83  83      6819 non-null   float64\n",
      " 84  84      6819 non-null   float64\n",
      " 85  85      6819 non-null   int64  \n",
      " 86  86      6819 non-null   float64\n",
      " 87  87      6819 non-null   float64\n",
      " 88  88      6819 non-null   float64\n",
      " 89  89      6819 non-null   float64\n",
      " 90  90      6819 non-null   float64\n",
      " 91  91      6819 non-null   float64\n",
      " 92  92      6819 non-null   float64\n",
      " 93  93      6819 non-null   float64\n",
      " 94  94      6819 non-null   int64  \n",
      " 95  95      6819 non-null   float64\n",
      "dtypes: float64(93), int64(3)\n",
      "memory usage: 5.0 MB\n"
     ]
    }
   ],
   "source": [
    "bankruptcy_data.info()"
   ]
  },
  {
   "cell_type": "code",
   "execution_count": 10,
   "metadata": {
    "colab": {
     "base_uri": "https://localhost:8080/"
    },
    "id": "OoSbhNJTOmJ-",
    "outputId": "22b5bc34-1b77-4ba3-c4fc-25caf55ee75f"
   },
   "outputs": [
    {
     "data": {
      "text/plain": [
       "Index(['0', '1', '2', '3', '4', '5', '6', '7', '8', '9', '10', '11', '12',\n",
       "       '13', '14', '15', '16', '17', '18', '19', '20', '21', '22', '23', '24',\n",
       "       '25', '26', '27', '28', '29', '30', '31', '32', '33', '34', '35', '36',\n",
       "       '37', '38', '39', '40', '41', '42', '43', '44', '45', '46', '47', '48',\n",
       "       '49', '50', '51', '52', '53', '54', '55', '56', '57', '58', '59', '60',\n",
       "       '61', '62', '63', '64', '65', '66', '67', '68', '69', '70', '71', '72',\n",
       "       '73', '74', '75', '76', '77', '78', '79', '80', '81', '82', '83', '84',\n",
       "       '85', '86', '87', '88', '89', '90', '91', '92', '93', '94', '95'],\n",
       "      dtype='object')"
      ]
     },
     "execution_count": 10,
     "metadata": {},
     "output_type": "execute_result"
    }
   ],
   "source": [
    "bankruptcy_data.columns"
   ]
  },
  {
   "cell_type": "markdown",
   "metadata": {
    "id": "6yqZh-pd_UGH"
   },
   "source": [
    "Ver si hay nulos:"
   ]
  },
  {
   "cell_type": "code",
   "execution_count": 11,
   "metadata": {
    "colab": {
     "base_uri": "https://localhost:8080/"
    },
    "id": "AEczZsxAOmZ9",
    "outputId": "c77dbf57-8312-46d0-fd34-b92e40b29c67"
   },
   "outputs": [
    {
     "data": {
      "text/plain": [
       "0     0\n",
       "1     0\n",
       "2     0\n",
       "3     0\n",
       "4     0\n",
       "     ..\n",
       "91    0\n",
       "92    0\n",
       "93    0\n",
       "94    0\n",
       "95    0\n",
       "Length: 96, dtype: int64"
      ]
     },
     "execution_count": 11,
     "metadata": {},
     "output_type": "execute_result"
    }
   ],
   "source": [
    "bankruptcy_data.isnull().sum()"
   ]
  },
  {
   "cell_type": "markdown",
   "metadata": {
    "id": "zS_K623pfQx5"
   },
   "source": [
    "Distribución de las clases:"
   ]
  },
  {
   "cell_type": "code",
   "execution_count": 13,
   "metadata": {
    "colab": {
     "base_uri": "https://localhost:8080/",
     "height": 401
    },
    "id": "1_zp37SMbQnV",
    "outputId": "a1214f86-0169-42d8-fcd2-ebb46a89d05c"
   },
   "outputs": [
    {
     "name": "stdout",
     "output_type": "stream",
     "text": [
      "0    6599\n",
      "1     220\n",
      "Name: 0, dtype: int64\n"
     ]
    },
    {
     "data": {
      "text/plain": [
       "<AxesSubplot:xlabel='0', ylabel='count'>"
      ]
     },
     "execution_count": 13,
     "metadata": {},
     "output_type": "execute_result"
    },
    {
     "data": {
      "image/png": "[encoded data removed]",
      "text/plain": [
       "<Figure size 432x288 with 1 Axes>"
      ]
     },
     "metadata": {
      "needs_background": "light"
     },
     "output_type": "display_data"
    }
   ],
   "source": [
    "print(bankruptcy_data['0'].value_counts())\n",
    "sns.countplot(x=bankruptcy_data['0'])"
   ]
  },
  {
   "cell_type": "markdown",
   "metadata": {
    "id": "8gY89wN8JYGp"
   },
   "source": [
    "Separacion de X y Y:"
   ]
  },
  {
   "cell_type": "code",
   "execution_count": 14,
   "metadata": {
    "colab": {
     "base_uri": "https://localhost:8080/"
    },
    "id": "hTIJFHUo4e4L",
    "outputId": "70376394-2182-4099-fa61-47566089bfbc"
   },
   "outputs": [
    {
     "name": "stdout",
     "output_type": "stream",
     "text": [
      "(6819, 95) (6819,)\n"
     ]
    }
   ],
   "source": [
    "X = bankruptcy_data.drop('0', axis=1).values\n",
    "Y = bankruptcy_data['0'].values\n",
    "print (X.shape , Y.shape)\n",
    "#1"
   ]
  },
  {
   "cell_type": "code",
   "execution_count": 16,
   "metadata": {},
   "outputs": [
    {
     "data": {
      "text/plain": [
       "array([1, 1, 1, ..., 0, 0, 0])"
      ]
     },
     "execution_count": 16,
     "metadata": {},
     "output_type": "execute_result"
    }
   ],
   "source": [
    "Y"
   ]
  },
  {
   "cell_type": "code",
   "execution_count": 17,
   "metadata": {},
   "outputs": [
    {
     "data": {
      "text/plain": [
       "array([[0.37059426, 0.42438945, 0.40574977, ..., 0.56405011, 1.        ,\n",
       "        0.01646874],\n",
       "       [0.46429094, 0.53821413, 0.51673002, ..., 0.57017495, 1.        ,\n",
       "        0.02079431],\n",
       "       [0.42607127, 0.49901875, 0.47229509, ..., 0.56370608, 1.        ,\n",
       "        0.01647411],\n",
       "       ...,\n",
       "       [0.47272461, 0.533744  , 0.52063815, ..., 0.5651584 , 1.        ,\n",
       "        0.09764874],\n",
       "       [0.50626432, 0.5599106 , 0.55404465, ..., 0.56530151, 1.        ,\n",
       "        0.04400945],\n",
       "       [0.49305319, 0.57010467, 0.54954762, ..., 0.56516694, 1.        ,\n",
       "        0.23390224]])"
      ]
     },
     "execution_count": 17,
     "metadata": {},
     "output_type": "execute_result"
    }
   ],
   "source": [
    "X"
   ]
  },
  {
   "cell_type": "markdown",
   "metadata": {
    "id": "xivJRqiiy14l"
   },
   "source": [
    "Separacion de test y train: (Para probar codigos y disminuir tiempo de ejecucion)\n",
    "\n",
    "\n",
    "\n"
   ]
  },
  {
   "cell_type": "code",
   "execution_count": 18,
   "metadata": {
    "colab": {
     "base_uri": "https://localhost:8080/"
    },
    "id": "YAXYW5wBAVh-",
    "outputId": "2870ec3e-d467-4b2f-bbda-97c9137f80e6"
   },
   "outputs": [
    {
     "name": "stdout",
     "output_type": "stream",
     "text": [
      "(69, 95) (69,)\n"
     ]
    }
   ],
   "source": [
    "#Para pruebas con modelos complicados\n",
    "from sklearn.model_selection import train_test_split\n",
    "X_train, X_test, Y_train, Y_test = train_test_split(X, Y, test_size=0.01, random_state=0)\n",
    "print (X_test.shape , Y_test.shape)"
   ]
  },
  {
   "cell_type": "markdown",
   "metadata": {
    "id": "0V57nkzBJ7MW"
   },
   "source": [
    "Funcion para graficar matriz de confusion:\n",
    "\n"
   ]
  },
  {
   "cell_type": "code",
   "execution_count": 19,
   "metadata": {
    "id": "-TMwkTnAVHDM"
   },
   "outputs": [],
   "source": [
    "  #NORMALIZAR\n",
    "def calcularMatrizCF(matris,titulo):\n",
    "    a = (matris[0,0] +  matris[0,1])\n",
    "    b = (matris[1,0] +  matris[1,1])\n",
    "    matris[0,0] =  matris[0,0] / a\n",
    "    matris[0,1] =  matris[0,1] / a\n",
    "    matris[1,0] =  matris[1,0] / b\n",
    "    matris[1,1] =  matris[1,1] / b\n",
    "    #MATRIZ DE CONFUSION\n",
    "    sns.heatmap(matris,annot=True)\n",
    "    plt.xlabel('Label Predicha')\n",
    "    plt.ylabel('Label Verdadera')\n",
    "    plt.title(titulo)\n",
    "    print(matris)"
   ]
  },
  {
   "cell_type": "markdown",
   "metadata": {
    "id": "NbPtf7BA3wcR"
   },
   "source": [
    "# GBT (Gradient Boosting Tree)\n",
    "\n"
   ]
  },
  {
   "cell_type": "code",
   "execution_count": 20,
   "metadata": {
    "id": "hUo13Epo4K5V"
   },
   "outputs": [],
   "source": [
    "def experimentar_gbt(num_trees, X, Y):\n",
    "    folds = 10\n",
    "    skf = KFold(n_splits=folds)\n",
    "    resultados = pd.DataFrame()\n",
    "    idx = 0\n",
    "    conf_matrix_list_of_arrays = np.zeros(2)\n",
    "    for trees in num_trees:\n",
    "        ## para almacenar los errores intermedios\n",
    "        EficienciaTrain = []\n",
    "        EficienciaVal = []\n",
    "        accuracy = []\n",
    "        Macc = []\n",
    "        Mpre = []\n",
    "        Mrec = []\n",
    "        Mf1 = []\n",
    "        j = 0\n",
    "        for train, test in skf.split(X, Y):\n",
    "            Xtrain = X[train,:]\n",
    "            Ytrain = Y[train]\n",
    "            Xtest = X[test,:]\n",
    "            Ytest = Y[test]\n",
    "            #Haga el llamado a la función para crear y entrenar el modelo usando los datos de entrenamiento\n",
    "            modelo= GradientBoostingClassifier(n_estimators=trees)\n",
    "            modelo.fit(Xtrain,Ytrain)\n",
    "            conf_matrix = confusion_matrix(Ytest, modelo.predict(Xtest))\n",
    "            conf_matrix_list_of_arrays = conf_matrix_list_of_arrays + conf_matrix\n",
    "            #predecir muestras de entrenamiento\n",
    "            Ytrain_pred =  modelo.predict(Xtrain)\n",
    "            #predecir muestras de pruebas\n",
    "            Yest = modelo.predict(Xtest)\n",
    "            #Evaluamos las predicciones del modelo con los datos de test\n",
    "            EficienciaTrain.append(np.mean(Ytrain_pred.ravel() == Ytrain.ravel()))\n",
    "            EficienciaVal.append(np.mean(Yest.ravel() == Ytest.ravel()))\n",
    "            accuracy.append(modelo.score(Xtest, Ytest))\n",
    "            Macc.append(accuracy_score(Ytest, Yest))\n",
    "            Mpre.append(precision_score(Ytest, Yest))\n",
    "            Mrec.append(recall_score(Ytest, Yest))\n",
    "            Mf1.append(f1_score(Ytest, Yest))\n",
    "\n",
    "        resultados.loc[idx,'número de arboles'] = trees\n",
    "        resultados.loc[idx,'eficiencia de entrenamiento'] = np.mean(EficienciaTrain)\n",
    "        resultados.loc[idx,'desviacion estandar entrenamiento'] = np.std(EficienciaTrain)\n",
    "        resultados.loc[idx,'eficiencia de prueba'] = np.mean(EficienciaVal)\n",
    "        resultados.loc[idx,'Intervalo de confianza (prueba)'] = np.std(EficienciaVal)\n",
    "        resultados.loc[idx,'accuracy real'] = np.mean(Macc)\n",
    "        resultados.loc[idx,'precision_score'] = np.mean(Mpre)\n",
    "        resultados.loc[idx,'recall_score'] = np.mean(Mrec)\n",
    "        resultados.loc[idx,'f1_score'] = np.mean(Mf1)\n",
    "        idx= idx +1\n",
    "        \n",
    "    return (resultados, conf_matrix_list_of_arrays)"
   ]
  },
  {
   "cell_type": "markdown",
   "metadata": {
    "id": "EtOzOOca9zoh"
   },
   "source": [
    "Resultados para el GBT"
   ]
  },
  {
   "cell_type": "code",
   "execution_count": 21,
   "metadata": {
    "colab": {
     "base_uri": "https://localhost:8080/",
     "height": 287
    },
    "id": "AB_2OuCH2pwA",
    "outputId": "9a2a6637-e842-4968-f931-f5bf6640f879"
   },
   "outputs": [
    {
     "data": {
      "text/html": [
       "<div>\n",
       "<style scoped>\n",
       "    .dataframe tbody tr th:only-of-type {\n",
       "        vertical-align: middle;\n",
       "    }\n",
       "\n",
       "    .dataframe tbody tr th {\n",
       "        vertical-align: top;\n",
       "    }\n",
       "\n",
       "    .dataframe thead th {\n",
       "        text-align: right;\n",
       "    }\n",
       "</style>\n",
       "<table border=\"1\" class=\"dataframe\">\n",
       "  <thead>\n",
       "    <tr style=\"text-align: right;\">\n",
       "      <th></th>\n",
       "      <th>número de arboles</th>\n",
       "      <th>eficiencia de entrenamiento</th>\n",
       "      <th>desviacion estandar entrenamiento</th>\n",
       "      <th>eficiencia de prueba</th>\n",
       "      <th>Intervalo de confianza (prueba)</th>\n",
       "      <th>accuracy real</th>\n",
       "      <th>precision_score</th>\n",
       "      <th>recall_score</th>\n",
       "      <th>f1_score</th>\n",
       "    </tr>\n",
       "  </thead>\n",
       "  <tbody>\n",
       "    <tr>\n",
       "      <th>0</th>\n",
       "      <td>200.0</td>\n",
       "      <td>0.997588</td>\n",
       "      <td>0.000898</td>\n",
       "      <td>0.963046</td>\n",
       "      <td>0.023928</td>\n",
       "      <td>0.963046</td>\n",
       "      <td>0.389875</td>\n",
       "      <td>0.253613</td>\n",
       "      <td>0.286081</td>\n",
       "    </tr>\n",
       "  </tbody>\n",
       "</table>\n",
       "</div>"
      ],
      "text/plain": [
       "   número de arboles  eficiencia de entrenamiento  \\\n",
       "0              200.0                     0.997588   \n",
       "\n",
       "   desviacion estandar entrenamiento  eficiencia de prueba  \\\n",
       "0                           0.000898              0.963046   \n",
       "\n",
       "   Intervalo de confianza (prueba)  accuracy real  precision_score  \\\n",
       "0                         0.023928       0.963046         0.389875   \n",
       "\n",
       "   recall_score  f1_score  \n",
       "0      0.253613  0.286081  "
      ]
     },
     "execution_count": 21,
     "metadata": {},
     "output_type": "execute_result"
    }
   ],
   "source": [
    "arboles = [200]\n",
    "resultados_gbt, matris = experimentar_gbt(arboles, X, Y)\n",
    "resultados_gbt"
   ]
  },
  {
   "cell_type": "code",
   "execution_count": null,
   "metadata": {},
   "outputs": [],
   "source": [
    "arboles = [500]\n",
    "resultados_gbt, matris = experimentar_gbt(arboles, X, Y)\n",
    "resultados_gbt"
   ]
  },
  {
   "cell_type": "markdown",
   "metadata": {
    "id": "N03ji3bd_PIs"
   },
   "source": [
    "Mejor resultado GBT"
   ]
  },
  {
   "cell_type": "code",
   "execution_count": null,
   "metadata": {
    "colab": {
     "base_uri": "https://localhost:8080/",
     "height": 77
    },
    "id": "PfmUm5L14Nhb",
    "outputId": "227b1104-8900-4367-fb68-d651ee6a40ab"
   },
   "outputs": [],
   "source": [
    "arboles = [5,10,20]\n",
    "resultados_gbt, matrisGBT = experimentar_gbt(arboles, X, Y)\n",
    "resultados_gbt"
   ]
  },
  {
   "cell_type": "markdown",
   "metadata": {
    "id": "4h6pqwPl94UR"
   },
   "source": [
    "Matriz de confusión GBT"
   ]
  },
  {
   "cell_type": "code",
   "execution_count": 27,
   "metadata": {
    "colab": {
     "base_uri": "https://localhost:8080/",
     "height": 330
    },
    "id": "ihLZV4XJEWhx",
    "outputId": "f8f75c10-6e92-4a2c-ea6b-39efb54ea438"
   },
   "outputs": [
    {
     "name": "stdout",
     "output_type": "stream",
     "text": [
      "[[0.98878618 0.01121382]\n",
      " [0.7        0.3       ]]\n"
     ]
    },
    {
     "data": {
      "image/png": "[encoded data removed]",
      "text/plain": [
       "<Figure size 432x288 with 2 Axes>"
      ]
     },
     "metadata": {
      "needs_background": "light"
     },
     "output_type": "display_data"
    }
   ],
   "source": [
    "calcularMatrizCF(matris, \"Matriz de confusión GBT\")"
   ]
  },
  {
   "cell_type": "markdown",
   "metadata": {
    "id": "L8eOH1mu_DXL"
   },
   "source": [
    "# SVM (Support Vector Machine)"
   ]
  },
  {
   "cell_type": "code",
   "execution_count": null,
   "metadata": {
    "id": "J8f80m5__F-y"
   },
   "outputs": [],
   "source": [
    "#ejercicio de código\n",
    "def experiementarSVC(x, y, kernels, gammas,params_reg):\n",
    "    idx = 0\n",
    "    kf = KFold(n_splits=10) \n",
    "    # crear una lista con la combinaciones de los elementos de cada list\n",
    "    kernels_gammas_regs = list(itertools.product(kernels, gammas, params_reg))\n",
    "    resultados = pd.DataFrame()\n",
    "    conf_matrix_list_of_arrays = np.zeros(2)\n",
    "    for params in kernels_gammas_regs:\n",
    "        kernel, gamma, param_reg = params\n",
    "        ''' print(\"parametros usados\", params) # puede usar para ver los params '''\n",
    "        errores_train = []\n",
    "        errores_test = []\n",
    "        EficienciaVal = []\n",
    "        pct_support_vectors = []\n",
    "        Macc = []\n",
    "        Mpre = []\n",
    "        Mrec = []\n",
    "        Mf1 = []\n",
    "        for train_index, test_index in kf.split(x,y):\n",
    "            X_train, X_test = x[train_index], x[test_index]\n",
    "            y_train, y_test = y[train_index], y[test_index]  \n",
    "            # normalizar los datos\n",
    "            scaler = StandardScaler().fit(X= X_train)  \n",
    "            X_train = scaler.fit_transform(X_train)\n",
    "            X_test = scaler.transform(X_test)\n",
    "            svm = SVC(kernel=kernel, gamma=gamma, C= param_reg)\n",
    "            # Entrenar el modelo\n",
    "            svm.fit(X=X_train, y=y_train)\n",
    "            # calculo de errores\n",
    "            y_train_pred = svm.predict(X=X_train)\n",
    "            y_test_pred = svm.predict(X=X_test)\n",
    "            conf_matrix = confusion_matrix(y_test, svm.predict(X_test))\n",
    "            conf_matrix_list_of_arrays = conf_matrix_list_of_arrays + conf_matrix\n",
    "            # error y pct de vectores de soporte\n",
    "            errores_train.append(accuracy_score(y_true = y_train, y_pred = y_train_pred))\n",
    "            errores_test.append(accuracy_score(y_true = y_test, y_pred = y_test_pred))\n",
    "            # contar muestras de entrenamiento\n",
    "            n_train = X_train.shape[0]\n",
    "            pct_vs = ( svm.support_vectors_.shape[0] /n_train)\n",
    "            pct_support_vectors.append(pct_vs)\n",
    "            #ypredict.append((y_test_pred))\n",
    "            #ytesetes.append((y_test))\n",
    "            Macc.append(accuracy_score(y_test, y_test_pred))\n",
    "            Mpre.append(precision_score(y_test, y_test_pred))\n",
    "            Mrec.append(recall_score(y_test, y_test_pred))\n",
    "            Mf1.append(f1_score(y_test, y_test_pred))\n",
    "            EficienciaVal.append(np.mean(y_test_pred.ravel() == y_test.ravel()))\n",
    "\n",
    "    \n",
    "        resultados.loc[idx,'kernel'] = kernel\n",
    "        resultados.loc[idx,'gamma'] = gamma\n",
    "        resultados.loc[idx,'param_reg'] = param_reg\n",
    "        resultados.loc[idx,'error de entrenamiento'] = np.mean(errores_train)\n",
    "        resultados.loc[idx,'error de prueba'] = np.mean(errores_test)\n",
    "        resultados.loc[idx,'% de vectores de soporte'] = np.mean(pct_support_vectors)*100\n",
    "        resultados.loc[idx,'accuracy real'] = np.mean(Macc)\n",
    "        resultados.loc[idx,'Intervalo de confianza (prueba)'] = np.std(EficienciaVal)\n",
    "        resultados.loc[idx,'precision_score'] = np.mean(Mpre)\n",
    "        resultados.loc[idx,'recall_score'] = np.mean(Mrec)\n",
    "        resultados.loc[idx,'f1_score'] = np.mean(Mf1)\n",
    "        \n",
    "        idx+=1\n",
    "    return (resultados, conf_matrix_list_of_arrays)"
   ]
  },
  {
   "cell_type": "markdown",
   "metadata": {
    "id": "081YIvIf_C72"
   },
   "source": [
    "Resultados SVM"
   ]
  },
  {
   "cell_type": "code",
   "execution_count": null,
   "metadata": {
    "colab": {
     "base_uri": "https://localhost:8080/",
     "height": 647
    },
    "id": "UiDizg6__ISQ",
    "outputId": "824116d0-eae0-4cbb-e43e-84bfa4f7a2c7"
   },
   "outputs": [
    {
     "data": {
      "text/html": [
       "<div>\n",
       "<style scoped>\n",
       "    .dataframe tbody tr th:only-of-type {\n",
       "        vertical-align: middle;\n",
       "    }\n",
       "\n",
       "    .dataframe tbody tr th {\n",
       "        vertical-align: top;\n",
       "    }\n",
       "\n",
       "    .dataframe thead th {\n",
       "        text-align: right;\n",
       "    }\n",
       "</style>\n",
       "<table border=\"1\" class=\"dataframe\">\n",
       "  <thead>\n",
       "    <tr style=\"text-align: right;\">\n",
       "      <th></th>\n",
       "      <th>kernel</th>\n",
       "      <th>gamma</th>\n",
       "      <th>param_reg</th>\n",
       "      <th>error de entrenamiento</th>\n",
       "      <th>error de prueba</th>\n",
       "      <th>% de vectores de soporte</th>\n",
       "      <th>accuracy real</th>\n",
       "      <th>Intervalo de confianza (prueba)</th>\n",
       "      <th>precision_score</th>\n",
       "      <th>recall_score</th>\n",
       "      <th>f1_score</th>\n",
       "    </tr>\n",
       "  </thead>\n",
       "  <tbody>\n",
       "    <tr>\n",
       "      <th>0</th>\n",
       "      <td>linear</td>\n",
       "      <td>0.01</td>\n",
       "      <td>0.001</td>\n",
       "      <td>0.921363</td>\n",
       "      <td>0.920489</td>\n",
       "      <td>32.218705</td>\n",
       "      <td>0.920489</td>\n",
       "      <td>0.008488</td>\n",
       "      <td>0.913842</td>\n",
       "      <td>0.946836</td>\n",
       "      <td>0.929987</td>\n",
       "    </tr>\n",
       "    <tr>\n",
       "      <th>1</th>\n",
       "      <td>linear</td>\n",
       "      <td>0.01</td>\n",
       "      <td>0.010</td>\n",
       "      <td>0.926097</td>\n",
       "      <td>0.924921</td>\n",
       "      <td>20.756820</td>\n",
       "      <td>0.924921</td>\n",
       "      <td>0.007334</td>\n",
       "      <td>0.918782</td>\n",
       "      <td>0.949391</td>\n",
       "      <td>0.933785</td>\n",
       "    </tr>\n",
       "    <tr>\n",
       "      <th>2</th>\n",
       "      <td>linear</td>\n",
       "      <td>0.01</td>\n",
       "      <td>0.100</td>\n",
       "      <td>0.928388</td>\n",
       "      <td>0.927001</td>\n",
       "      <td>18.101412</td>\n",
       "      <td>0.927001</td>\n",
       "      <td>0.006759</td>\n",
       "      <td>0.924212</td>\n",
       "      <td>0.946793</td>\n",
       "      <td>0.935324</td>\n",
       "    </tr>\n",
       "    <tr>\n",
       "      <th>3</th>\n",
       "      <td>linear</td>\n",
       "      <td>0.01</td>\n",
       "      <td>1.000</td>\n",
       "      <td>0.928690</td>\n",
       "      <td>0.927001</td>\n",
       "      <td>17.752649</td>\n",
       "      <td>0.927001</td>\n",
       "      <td>0.006541</td>\n",
       "      <td>0.924343</td>\n",
       "      <td>0.946621</td>\n",
       "      <td>0.935304</td>\n",
       "    </tr>\n",
       "    <tr>\n",
       "      <th>4</th>\n",
       "      <td>linear</td>\n",
       "      <td>0.01</td>\n",
       "      <td>10.000</td>\n",
       "      <td>0.928609</td>\n",
       "      <td>0.927001</td>\n",
       "      <td>17.704405</td>\n",
       "      <td>0.927001</td>\n",
       "      <td>0.006126</td>\n",
       "      <td>0.924593</td>\n",
       "      <td>0.946294</td>\n",
       "      <td>0.935277</td>\n",
       "    </tr>\n",
       "    <tr>\n",
       "      <th>5</th>\n",
       "      <td>linear</td>\n",
       "      <td>0.10</td>\n",
       "      <td>0.001</td>\n",
       "      <td>0.921363</td>\n",
       "      <td>0.920489</td>\n",
       "      <td>32.218705</td>\n",
       "      <td>0.920489</td>\n",
       "      <td>0.008488</td>\n",
       "      <td>0.913842</td>\n",
       "      <td>0.946836</td>\n",
       "      <td>0.929987</td>\n",
       "    </tr>\n",
       "    <tr>\n",
       "      <th>6</th>\n",
       "      <td>linear</td>\n",
       "      <td>0.10</td>\n",
       "      <td>0.010</td>\n",
       "      <td>0.926097</td>\n",
       "      <td>0.924921</td>\n",
       "      <td>20.756820</td>\n",
       "      <td>0.924921</td>\n",
       "      <td>0.007334</td>\n",
       "      <td>0.918782</td>\n",
       "      <td>0.949391</td>\n",
       "      <td>0.933785</td>\n",
       "    </tr>\n",
       "    <tr>\n",
       "      <th>7</th>\n",
       "      <td>linear</td>\n",
       "      <td>0.10</td>\n",
       "      <td>0.100</td>\n",
       "      <td>0.928388</td>\n",
       "      <td>0.927001</td>\n",
       "      <td>18.101412</td>\n",
       "      <td>0.927001</td>\n",
       "      <td>0.006759</td>\n",
       "      <td>0.924212</td>\n",
       "      <td>0.946793</td>\n",
       "      <td>0.935324</td>\n",
       "    </tr>\n",
       "    <tr>\n",
       "      <th>8</th>\n",
       "      <td>linear</td>\n",
       "      <td>0.10</td>\n",
       "      <td>1.000</td>\n",
       "      <td>0.928690</td>\n",
       "      <td>0.927001</td>\n",
       "      <td>17.752649</td>\n",
       "      <td>0.927001</td>\n",
       "      <td>0.006541</td>\n",
       "      <td>0.924343</td>\n",
       "      <td>0.946621</td>\n",
       "      <td>0.935304</td>\n",
       "    </tr>\n",
       "    <tr>\n",
       "      <th>9</th>\n",
       "      <td>linear</td>\n",
       "      <td>0.10</td>\n",
       "      <td>10.000</td>\n",
       "      <td>0.928609</td>\n",
       "      <td>0.927001</td>\n",
       "      <td>17.704405</td>\n",
       "      <td>0.927001</td>\n",
       "      <td>0.006126</td>\n",
       "      <td>0.924593</td>\n",
       "      <td>0.946294</td>\n",
       "      <td>0.935277</td>\n",
       "    </tr>\n",
       "    <tr>\n",
       "      <th>10</th>\n",
       "      <td>rbf</td>\n",
       "      <td>0.01</td>\n",
       "      <td>0.001</td>\n",
       "      <td>0.556943</td>\n",
       "      <td>0.556941</td>\n",
       "      <td>88.611491</td>\n",
       "      <td>0.556941</td>\n",
       "      <td>0.011719</td>\n",
       "      <td>0.556941</td>\n",
       "      <td>1.000000</td>\n",
       "      <td>0.715357</td>\n",
       "    </tr>\n",
       "    <tr>\n",
       "      <th>11</th>\n",
       "      <td>rbf</td>\n",
       "      <td>0.01</td>\n",
       "      <td>0.010</td>\n",
       "      <td>0.917162</td>\n",
       "      <td>0.915965</td>\n",
       "      <td>65.413343</td>\n",
       "      <td>0.915965</td>\n",
       "      <td>0.006878</td>\n",
       "      <td>0.901551</td>\n",
       "      <td>0.953431</td>\n",
       "      <td>0.926714</td>\n",
       "    </tr>\n",
       "    <tr>\n",
       "      <th>12</th>\n",
       "      <td>rbf</td>\n",
       "      <td>0.01</td>\n",
       "      <td>0.100</td>\n",
       "      <td>0.926961</td>\n",
       "      <td>0.924831</td>\n",
       "      <td>30.967383</td>\n",
       "      <td>0.924831</td>\n",
       "      <td>0.007152</td>\n",
       "      <td>0.917426</td>\n",
       "      <td>0.950869</td>\n",
       "      <td>0.933794</td>\n",
       "    </tr>\n",
       "    <tr>\n",
       "      <th>13</th>\n",
       "      <td>rbf</td>\n",
       "      <td>0.01</td>\n",
       "      <td>1.000</td>\n",
       "      <td>0.940570</td>\n",
       "      <td>0.936952</td>\n",
       "      <td>19.892454</td>\n",
       "      <td>0.936952</td>\n",
       "      <td>0.005832</td>\n",
       "      <td>0.929956</td>\n",
       "      <td>0.959244</td>\n",
       "      <td>0.944329</td>\n",
       "    </tr>\n",
       "    <tr>\n",
       "      <th>14</th>\n",
       "      <td>rbf</td>\n",
       "      <td>0.01</td>\n",
       "      <td>10.000</td>\n",
       "      <td>0.959103</td>\n",
       "      <td>0.950881</td>\n",
       "      <td>16.050052</td>\n",
       "      <td>0.950881</td>\n",
       "      <td>0.006395</td>\n",
       "      <td>0.945397</td>\n",
       "      <td>0.967834</td>\n",
       "      <td>0.956457</td>\n",
       "    </tr>\n",
       "    <tr>\n",
       "      <th>15</th>\n",
       "      <td>rbf</td>\n",
       "      <td>0.10</td>\n",
       "      <td>0.001</td>\n",
       "      <td>0.556943</td>\n",
       "      <td>0.556941</td>\n",
       "      <td>88.668781</td>\n",
       "      <td>0.556941</td>\n",
       "      <td>0.011719</td>\n",
       "      <td>0.556941</td>\n",
       "      <td>1.000000</td>\n",
       "      <td>0.715357</td>\n",
       "    </tr>\n",
       "    <tr>\n",
       "      <th>16</th>\n",
       "      <td>rbf</td>\n",
       "      <td>0.10</td>\n",
       "      <td>0.010</td>\n",
       "      <td>0.772501</td>\n",
       "      <td>0.761460</td>\n",
       "      <td>80.823172</td>\n",
       "      <td>0.761460</td>\n",
       "      <td>0.024327</td>\n",
       "      <td>0.706891</td>\n",
       "      <td>0.978879</td>\n",
       "      <td>0.820671</td>\n",
       "    </tr>\n",
       "    <tr>\n",
       "      <th>17</th>\n",
       "      <td>rbf</td>\n",
       "      <td>0.10</td>\n",
       "      <td>0.100</td>\n",
       "      <td>0.938258</td>\n",
       "      <td>0.917318</td>\n",
       "      <td>51.928243</td>\n",
       "      <td>0.917318</td>\n",
       "      <td>0.018440</td>\n",
       "      <td>0.892712</td>\n",
       "      <td>0.969167</td>\n",
       "      <td>0.929114</td>\n",
       "    </tr>\n",
       "    <tr>\n",
       "      <th>18</th>\n",
       "      <td>rbf</td>\n",
       "      <td>0.10</td>\n",
       "      <td>1.000</td>\n",
       "      <td>0.976612</td>\n",
       "      <td>0.963272</td>\n",
       "      <td>32.440847</td>\n",
       "      <td>0.963272</td>\n",
       "      <td>0.009159</td>\n",
       "      <td>0.959188</td>\n",
       "      <td>0.975801</td>\n",
       "      <td>0.967369</td>\n",
       "    </tr>\n",
       "    <tr>\n",
       "      <th>19</th>\n",
       "      <td>rbf</td>\n",
       "      <td>0.10</td>\n",
       "      <td>10.000</td>\n",
       "      <td>0.987487</td>\n",
       "      <td>0.969964</td>\n",
       "      <td>28.746186</td>\n",
       "      <td>0.969964</td>\n",
       "      <td>0.010411</td>\n",
       "      <td>0.964586</td>\n",
       "      <td>0.982258</td>\n",
       "      <td>0.973295</td>\n",
       "    </tr>\n",
       "  </tbody>\n",
       "</table>\n",
       "</div>"
      ],
      "text/plain": [
       "    kernel  gamma  param_reg  ...  precision_score  recall_score  f1_score\n",
       "0   linear   0.01      0.001  ...         0.913842      0.946836  0.929987\n",
       "1   linear   0.01      0.010  ...         0.918782      0.949391  0.933785\n",
       "2   linear   0.01      0.100  ...         0.924212      0.946793  0.935324\n",
       "3   linear   0.01      1.000  ...         0.924343      0.946621  0.935304\n",
       "4   linear   0.01     10.000  ...         0.924593      0.946294  0.935277\n",
       "5   linear   0.10      0.001  ...         0.913842      0.946836  0.929987\n",
       "6   linear   0.10      0.010  ...         0.918782      0.949391  0.933785\n",
       "7   linear   0.10      0.100  ...         0.924212      0.946793  0.935324\n",
       "8   linear   0.10      1.000  ...         0.924343      0.946621  0.935304\n",
       "9   linear   0.10     10.000  ...         0.924593      0.946294  0.935277\n",
       "10     rbf   0.01      0.001  ...         0.556941      1.000000  0.715357\n",
       "11     rbf   0.01      0.010  ...         0.901551      0.953431  0.926714\n",
       "12     rbf   0.01      0.100  ...         0.917426      0.950869  0.933794\n",
       "13     rbf   0.01      1.000  ...         0.929956      0.959244  0.944329\n",
       "14     rbf   0.01     10.000  ...         0.945397      0.967834  0.956457\n",
       "15     rbf   0.10      0.001  ...         0.556941      1.000000  0.715357\n",
       "16     rbf   0.10      0.010  ...         0.706891      0.978879  0.820671\n",
       "17     rbf   0.10      0.100  ...         0.892712      0.969167  0.929114\n",
       "18     rbf   0.10      1.000  ...         0.959188      0.975801  0.967369\n",
       "19     rbf   0.10     10.000  ...         0.964586      0.982258  0.973295\n",
       "\n",
       "[20 rows x 11 columns]"
      ]
     },
     "execution_count": 51,
     "metadata": {
      "tags": []
     },
     "output_type": "execute_result"
    }
   ],
   "source": [
    "# vamos a realizar los experimentos\n",
    "resultadosSVC, matrisSVM = experiementarSVC(x =X ,y=Y,\n",
    "                                 kernels=['linear', 'rbf'],\n",
    "                                 gammas = [0.01,0.1],\n",
    "                                 params_reg = [0.001, 0.01,0.1, 1,10]\n",
    "                                )\n",
    "\n",
    "resultadosSVC\n"
   ]
  },
  {
   "cell_type": "markdown",
   "metadata": {
    "id": "tPFWVvuD-_UF"
   },
   "source": [
    "Mejor resultado SVM"
   ]
  },
  {
   "cell_type": "code",
   "execution_count": null,
   "metadata": {
    "colab": {
     "base_uri": "https://localhost:8080/",
     "height": 77
    },
    "id": "hSj3wjstD5qU",
    "outputId": "a52cefbc-e755-4755-e145-e34a44706dca"
   },
   "outputs": [
    {
     "data": {
      "text/html": [
       "<div>\n",
       "<style scoped>\n",
       "    .dataframe tbody tr th:only-of-type {\n",
       "        vertical-align: middle;\n",
       "    }\n",
       "\n",
       "    .dataframe tbody tr th {\n",
       "        vertical-align: top;\n",
       "    }\n",
       "\n",
       "    .dataframe thead th {\n",
       "        text-align: right;\n",
       "    }\n",
       "</style>\n",
       "<table border=\"1\" class=\"dataframe\">\n",
       "  <thead>\n",
       "    <tr style=\"text-align: right;\">\n",
       "      <th></th>\n",
       "      <th>kernel</th>\n",
       "      <th>gamma</th>\n",
       "      <th>param_reg</th>\n",
       "      <th>error de entrenamiento</th>\n",
       "      <th>error de prueba</th>\n",
       "      <th>% de vectores de soporte</th>\n",
       "      <th>accuracy real</th>\n",
       "      <th>Intervalo de confianza (prueba)</th>\n",
       "      <th>precision_score</th>\n",
       "      <th>recall_score</th>\n",
       "      <th>f1_score</th>\n",
       "    </tr>\n",
       "  </thead>\n",
       "  <tbody>\n",
       "    <tr>\n",
       "      <th>0</th>\n",
       "      <td>rbf</td>\n",
       "      <td>0.01</td>\n",
       "      <td>10.0</td>\n",
       "      <td>0.959103</td>\n",
       "      <td>0.950881</td>\n",
       "      <td>16.050052</td>\n",
       "      <td>0.950881</td>\n",
       "      <td>0.006395</td>\n",
       "      <td>0.945397</td>\n",
       "      <td>0.967834</td>\n",
       "      <td>0.956457</td>\n",
       "    </tr>\n",
       "  </tbody>\n",
       "</table>\n",
       "</div>"
      ],
      "text/plain": [
       "  kernel  gamma  param_reg  ...  precision_score  recall_score  f1_score\n",
       "0    rbf   0.01       10.0  ...         0.945397      0.967834  0.956457\n",
       "\n",
       "[1 rows x 11 columns]"
      ]
     },
     "execution_count": 52,
     "metadata": {
      "tags": []
     },
     "output_type": "execute_result"
    }
   ],
   "source": [
    "# vamos a realizar los experimentos\n",
    "from sklearn.metrics import recall_score\n",
    "\n",
    "resultadosSVC, matrisSVM  = experiementarSVC(x = X,y=Y,\n",
    "                                 kernels=['rbf'],\n",
    "                                 gammas = [0.01],\n",
    "                                 params_reg = [10]\n",
    "                                )\n",
    "resultadosSVC"
   ]
  },
  {
   "cell_type": "markdown",
   "metadata": {
    "id": "zjAOvbi7-DOj"
   },
   "source": [
    "Matriz de confusión SVM"
   ]
  },
  {
   "cell_type": "code",
   "execution_count": null,
   "metadata": {
    "colab": {
     "base_uri": "https://localhost:8080/",
     "height": 329
    },
    "id": "1QjneZVMGCKn",
    "outputId": "f52ca484-b68d-437d-c458-30a5b76dd5b7"
   },
   "outputs": [
    {
     "name": "stdout",
     "output_type": "stream",
     "text": [
      "[[0.92956309 0.07043691]\n",
      " [0.03215852 0.96784148]]\n"
     ]
    },
    {
     "data": {
      "image/png": "[encoded data removed]",
      "text/plain": [
       "<Figure size 432x288 with 2 Axes>"
      ]
     },
     "metadata": {
      "tags": []
     },
     "output_type": "display_data"
    }
   ],
   "source": [
    "calcularMatrizCF(matrisSVM, \"Matriz de confusión SVM\")\n"
   ]
  },
  {
   "cell_type": "markdown",
   "metadata": {
    "id": "2YxT6h0bWWAB"
   },
   "source": [
    "# RF (Random Forest)\n"
   ]
  },
  {
   "cell_type": "code",
   "execution_count": null,
   "metadata": {
    "id": "JqjHkDikWYg6"
   },
   "outputs": [],
   "source": [
    "#ejercicio de código\n",
    "def experimentar_rf(num_trees,numero_de_variables, X, Y):\n",
    "    folds = 10\n",
    "    skf = KFold(n_splits=folds)\n",
    "    resultados = pd.DataFrame()\n",
    "    idx = 0\n",
    "    conf_matrix_list_of_arrays = np.zeros(2)\n",
    "    for trees in num_trees:\n",
    "        for num_variables in numero_de_variables:\n",
    "            ## para almacenar los errores intermedios\n",
    "            EficienciaTrain = []\n",
    "            EficienciaVal = []\n",
    "            Macc = []\n",
    "            Mpre = []\n",
    "            Mrec = []\n",
    "            Mf1 = []\n",
    "            for train, test in skf.split(X, Y):\n",
    "                Xtrain = X[train,:]\n",
    "                Ytrain = Y[train]\n",
    "                Xtest = X[test,:]\n",
    "                Ytest = Y[test]\n",
    "                #Haga el llamado a la función para crear y entrenar el modelo usando los datos de entrenamiento\n",
    "                modelo = RandomForestClassifier(n_estimators=trees, max_features=num_variables, criterion=\"gini\")\n",
    "                modelo.fit(Xtrain,Ytrain)\n",
    "                #predecir muestras de entrenamiento\n",
    "                Ytrain_pred = modelo.predict(Xtrain)\n",
    "                #predecir muestras de pruebas\n",
    "                Yest = modelo.predict(Xtest)\n",
    "                #Evaluamos las predicciones del modelo con los datos de test\n",
    "                EficienciaTrain.append(np.mean(Ytrain_pred.ravel() == Ytrain.ravel()))\n",
    "                EficienciaVal.append(np.mean(Yest.ravel() == Ytest.ravel()))\n",
    "                conf_matrix = confusion_matrix(Ytest, modelo.predict(Xtest))\n",
    "                conf_matrix_list_of_arrays = conf_matrix_list_of_arrays + conf_matrix\n",
    "                Macc.append(accuracy_score(Ytest, Yest))\n",
    "                Mpre.append(precision_score(Ytest, Yest))\n",
    "                Mrec.append(recall_score(Ytest, Yest))\n",
    "                Mf1.append(f1_score(Ytest, Yest))\n",
    "\n",
    "\n",
    "\n",
    "            resultados.loc[idx,'número de arboles'] = trees\n",
    "            resultados.loc[idx,'variables para la selección del mejor umbral'] = num_variables\n",
    "            resultados.loc[idx,'eficiencia de entrenamiento'] = np.mean(EficienciaTrain)\n",
    "            resultados.loc[idx,'desviacion estandar entrenamiento'] = np.std(EficienciaTrain)\n",
    "            resultados.loc[idx,'eficiencia de prueba'] = np.mean(EficienciaVal)\n",
    "            resultados.loc[idx,'Intervalo de confianza (prueba)'] = np.std(EficienciaVal)\n",
    "            resultados.loc[idx,'accuracy real'] = np.mean(Macc)\n",
    "            resultados.loc[idx,'precision_score'] = np.mean(Mpre)\n",
    "            resultados.loc[idx,'recall_score'] = np.mean(Mrec)\n",
    "            resultados.loc[idx,'f1_score'] = np.mean(Mf1)\n",
    "            idx= idx +1\n",
    "        print(f\"termina para {trees} arboles\")\n",
    "        \n",
    "    return (resultados, conf_matrix_list_of_arrays)"
   ]
  },
  {
   "cell_type": "markdown",
   "metadata": {
    "id": "QH7cYr3D-mQW"
   },
   "source": [
    "Resultados Random Forest"
   ]
  },
  {
   "cell_type": "code",
   "execution_count": null,
   "metadata": {
    "colab": {
     "base_uri": "https://localhost:8080/",
     "height": 1000
    },
    "id": "gbxibfrGWg_s",
    "outputId": "1f2d89e0-54da-4e32-bb0f-108c579eb2b0"
   },
   "outputs": [
    {
     "name": "stdout",
     "output_type": "stream",
     "text": [
      "termina para 5 arboles\n",
      "termina para 10 arboles\n",
      "termina para 20 arboles\n",
      "termina para 50 arboles\n",
      "termina para 100 arboles\n",
      "termina para 150 arboles\n"
     ]
    },
    {
     "data": {
      "text/html": [
       "<div>\n",
       "<style scoped>\n",
       "    .dataframe tbody tr th:only-of-type {\n",
       "        vertical-align: middle;\n",
       "    }\n",
       "\n",
       "    .dataframe tbody tr th {\n",
       "        vertical-align: top;\n",
       "    }\n",
       "\n",
       "    .dataframe thead th {\n",
       "        text-align: right;\n",
       "    }\n",
       "</style>\n",
       "<table border=\"1\" class=\"dataframe\">\n",
       "  <thead>\n",
       "    <tr style=\"text-align: right;\">\n",
       "      <th></th>\n",
       "      <th>número de arboles</th>\n",
       "      <th>variables para la selección del mejor umbral</th>\n",
       "      <th>eficiencia de entrenamiento</th>\n",
       "      <th>desviacion estandar entrenamiento</th>\n",
       "      <th>eficiencia de prueba</th>\n",
       "      <th>Intervalo de confianza (prueba)</th>\n",
       "      <th>accuracy real</th>\n",
       "      <th>precision_score</th>\n",
       "      <th>recall_score</th>\n",
       "      <th>f1_score</th>\n",
       "    </tr>\n",
       "  </thead>\n",
       "  <tbody>\n",
       "    <tr>\n",
       "      <th>0</th>\n",
       "      <td>5.0</td>\n",
       "      <td>5.0</td>\n",
       "      <td>0.987567</td>\n",
       "      <td>0.000672</td>\n",
       "      <td>0.967703</td>\n",
       "      <td>0.012349</td>\n",
       "      <td>0.967703</td>\n",
       "      <td>0.963868</td>\n",
       "      <td>0.978969</td>\n",
       "      <td>0.971288</td>\n",
       "    </tr>\n",
       "    <tr>\n",
       "      <th>1</th>\n",
       "      <td>5.0</td>\n",
       "      <td>10.0</td>\n",
       "      <td>0.987467</td>\n",
       "      <td>0.000924</td>\n",
       "      <td>0.966977</td>\n",
       "      <td>0.014879</td>\n",
       "      <td>0.966977</td>\n",
       "      <td>0.964771</td>\n",
       "      <td>0.976464</td>\n",
       "      <td>0.970527</td>\n",
       "    </tr>\n",
       "    <tr>\n",
       "      <th>2</th>\n",
       "      <td>5.0</td>\n",
       "      <td>15.0</td>\n",
       "      <td>0.987597</td>\n",
       "      <td>0.000403</td>\n",
       "      <td>0.966797</td>\n",
       "      <td>0.014207</td>\n",
       "      <td>0.966797</td>\n",
       "      <td>0.964674</td>\n",
       "      <td>0.976317</td>\n",
       "      <td>0.970380</td>\n",
       "    </tr>\n",
       "    <tr>\n",
       "      <th>3</th>\n",
       "      <td>5.0</td>\n",
       "      <td>20.0</td>\n",
       "      <td>0.987296</td>\n",
       "      <td>0.000599</td>\n",
       "      <td>0.969060</td>\n",
       "      <td>0.010971</td>\n",
       "      <td>0.969060</td>\n",
       "      <td>0.967212</td>\n",
       "      <td>0.977760</td>\n",
       "      <td>0.972411</td>\n",
       "    </tr>\n",
       "    <tr>\n",
       "      <th>4</th>\n",
       "      <td>5.0</td>\n",
       "      <td>25.0</td>\n",
       "      <td>0.987587</td>\n",
       "      <td>0.000176</td>\n",
       "      <td>0.967250</td>\n",
       "      <td>0.012766</td>\n",
       "      <td>0.967250</td>\n",
       "      <td>0.965573</td>\n",
       "      <td>0.976143</td>\n",
       "      <td>0.970763</td>\n",
       "    </tr>\n",
       "    <tr>\n",
       "      <th>5</th>\n",
       "      <td>10.0</td>\n",
       "      <td>5.0</td>\n",
       "      <td>0.989246</td>\n",
       "      <td>0.000436</td>\n",
       "      <td>0.970597</td>\n",
       "      <td>0.012062</td>\n",
       "      <td>0.970597</td>\n",
       "      <td>0.968560</td>\n",
       "      <td>0.979079</td>\n",
       "      <td>0.973737</td>\n",
       "    </tr>\n",
       "    <tr>\n",
       "      <th>6</th>\n",
       "      <td>10.0</td>\n",
       "      <td>10.0</td>\n",
       "      <td>0.989105</td>\n",
       "      <td>0.000400</td>\n",
       "      <td>0.970778</td>\n",
       "      <td>0.011917</td>\n",
       "      <td>0.970778</td>\n",
       "      <td>0.968131</td>\n",
       "      <td>0.979854</td>\n",
       "      <td>0.973900</td>\n",
       "    </tr>\n",
       "    <tr>\n",
       "      <th>7</th>\n",
       "      <td>10.0</td>\n",
       "      <td>15.0</td>\n",
       "      <td>0.989035</td>\n",
       "      <td>0.000507</td>\n",
       "      <td>0.969240</td>\n",
       "      <td>0.012631</td>\n",
       "      <td>0.969240</td>\n",
       "      <td>0.967482</td>\n",
       "      <td>0.977748</td>\n",
       "      <td>0.972535</td>\n",
       "    </tr>\n",
       "    <tr>\n",
       "      <th>8</th>\n",
       "      <td>10.0</td>\n",
       "      <td>20.0</td>\n",
       "      <td>0.989135</td>\n",
       "      <td>0.000393</td>\n",
       "      <td>0.969149</td>\n",
       "      <td>0.013267</td>\n",
       "      <td>0.969149</td>\n",
       "      <td>0.966892</td>\n",
       "      <td>0.978246</td>\n",
       "      <td>0.972462</td>\n",
       "    </tr>\n",
       "    <tr>\n",
       "      <th>9</th>\n",
       "      <td>10.0</td>\n",
       "      <td>25.0</td>\n",
       "      <td>0.989035</td>\n",
       "      <td>0.000316</td>\n",
       "      <td>0.969421</td>\n",
       "      <td>0.012388</td>\n",
       "      <td>0.969421</td>\n",
       "      <td>0.968857</td>\n",
       "      <td>0.976653</td>\n",
       "      <td>0.972684</td>\n",
       "    </tr>\n",
       "    <tr>\n",
       "      <th>10</th>\n",
       "      <td>20.0</td>\n",
       "      <td>5.0</td>\n",
       "      <td>0.989648</td>\n",
       "      <td>0.000333</td>\n",
       "      <td>0.972316</td>\n",
       "      <td>0.011267</td>\n",
       "      <td>0.972316</td>\n",
       "      <td>0.968554</td>\n",
       "      <td>0.982335</td>\n",
       "      <td>0.975347</td>\n",
       "    </tr>\n",
       "    <tr>\n",
       "      <th>11</th>\n",
       "      <td>20.0</td>\n",
       "      <td>10.0</td>\n",
       "      <td>0.989658</td>\n",
       "      <td>0.000398</td>\n",
       "      <td>0.971592</td>\n",
       "      <td>0.011590</td>\n",
       "      <td>0.971592</td>\n",
       "      <td>0.967490</td>\n",
       "      <td>0.982138</td>\n",
       "      <td>0.974702</td>\n",
       "    </tr>\n",
       "    <tr>\n",
       "      <th>12</th>\n",
       "      <td>20.0</td>\n",
       "      <td>15.0</td>\n",
       "      <td>0.989608</td>\n",
       "      <td>0.000390</td>\n",
       "      <td>0.971139</td>\n",
       "      <td>0.012614</td>\n",
       "      <td>0.971139</td>\n",
       "      <td>0.967007</td>\n",
       "      <td>0.981820</td>\n",
       "      <td>0.974308</td>\n",
       "    </tr>\n",
       "    <tr>\n",
       "      <th>13</th>\n",
       "      <td>20.0</td>\n",
       "      <td>20.0</td>\n",
       "      <td>0.989587</td>\n",
       "      <td>0.000390</td>\n",
       "      <td>0.969963</td>\n",
       "      <td>0.013907</td>\n",
       "      <td>0.969963</td>\n",
       "      <td>0.966712</td>\n",
       "      <td>0.980042</td>\n",
       "      <td>0.973258</td>\n",
       "    </tr>\n",
       "    <tr>\n",
       "      <th>14</th>\n",
       "      <td>20.0</td>\n",
       "      <td>25.0</td>\n",
       "      <td>0.989557</td>\n",
       "      <td>0.000432</td>\n",
       "      <td>0.970235</td>\n",
       "      <td>0.012737</td>\n",
       "      <td>0.970235</td>\n",
       "      <td>0.965760</td>\n",
       "      <td>0.981535</td>\n",
       "      <td>0.973541</td>\n",
       "    </tr>\n",
       "    <tr>\n",
       "      <th>15</th>\n",
       "      <td>50.0</td>\n",
       "      <td>5.0</td>\n",
       "      <td>0.989879</td>\n",
       "      <td>0.000342</td>\n",
       "      <td>0.972497</td>\n",
       "      <td>0.011390</td>\n",
       "      <td>0.972497</td>\n",
       "      <td>0.968556</td>\n",
       "      <td>0.982625</td>\n",
       "      <td>0.975497</td>\n",
       "    </tr>\n",
       "    <tr>\n",
       "      <th>16</th>\n",
       "      <td>50.0</td>\n",
       "      <td>10.0</td>\n",
       "      <td>0.989859</td>\n",
       "      <td>0.000369</td>\n",
       "      <td>0.972044</td>\n",
       "      <td>0.011669</td>\n",
       "      <td>0.972044</td>\n",
       "      <td>0.968712</td>\n",
       "      <td>0.981673</td>\n",
       "      <td>0.975101</td>\n",
       "    </tr>\n",
       "    <tr>\n",
       "      <th>17</th>\n",
       "      <td>50.0</td>\n",
       "      <td>15.0</td>\n",
       "      <td>0.989849</td>\n",
       "      <td>0.000291</td>\n",
       "      <td>0.971683</td>\n",
       "      <td>0.011252</td>\n",
       "      <td>0.971683</td>\n",
       "      <td>0.968711</td>\n",
       "      <td>0.981045</td>\n",
       "      <td>0.974778</td>\n",
       "    </tr>\n",
       "    <tr>\n",
       "      <th>18</th>\n",
       "      <td>50.0</td>\n",
       "      <td>20.0</td>\n",
       "      <td>0.989869</td>\n",
       "      <td>0.000301</td>\n",
       "      <td>0.970597</td>\n",
       "      <td>0.012041</td>\n",
       "      <td>0.970597</td>\n",
       "      <td>0.967632</td>\n",
       "      <td>0.980219</td>\n",
       "      <td>0.973802</td>\n",
       "    </tr>\n",
       "    <tr>\n",
       "      <th>19</th>\n",
       "      <td>50.0</td>\n",
       "      <td>25.0</td>\n",
       "      <td>0.989829</td>\n",
       "      <td>0.000327</td>\n",
       "      <td>0.970416</td>\n",
       "      <td>0.012951</td>\n",
       "      <td>0.970416</td>\n",
       "      <td>0.967600</td>\n",
       "      <td>0.979898</td>\n",
       "      <td>0.973644</td>\n",
       "    </tr>\n",
       "    <tr>\n",
       "      <th>20</th>\n",
       "      <td>100.0</td>\n",
       "      <td>5.0</td>\n",
       "      <td>0.989889</td>\n",
       "      <td>0.000318</td>\n",
       "      <td>0.972587</td>\n",
       "      <td>0.010881</td>\n",
       "      <td>0.972587</td>\n",
       "      <td>0.969622</td>\n",
       "      <td>0.981679</td>\n",
       "      <td>0.975552</td>\n",
       "    </tr>\n",
       "    <tr>\n",
       "      <th>21</th>\n",
       "      <td>100.0</td>\n",
       "      <td>10.0</td>\n",
       "      <td>0.989889</td>\n",
       "      <td>0.000318</td>\n",
       "      <td>0.971773</td>\n",
       "      <td>0.011294</td>\n",
       "      <td>0.971773</td>\n",
       "      <td>0.968051</td>\n",
       "      <td>0.981851</td>\n",
       "      <td>0.974858</td>\n",
       "    </tr>\n",
       "    <tr>\n",
       "      <th>22</th>\n",
       "      <td>100.0</td>\n",
       "      <td>15.0</td>\n",
       "      <td>0.989889</td>\n",
       "      <td>0.000318</td>\n",
       "      <td>0.972316</td>\n",
       "      <td>0.011238</td>\n",
       "      <td>0.972316</td>\n",
       "      <td>0.968341</td>\n",
       "      <td>0.982656</td>\n",
       "      <td>0.975374</td>\n",
       "    </tr>\n",
       "    <tr>\n",
       "      <th>23</th>\n",
       "      <td>100.0</td>\n",
       "      <td>20.0</td>\n",
       "      <td>0.989869</td>\n",
       "      <td>0.000327</td>\n",
       "      <td>0.970778</td>\n",
       "      <td>0.011681</td>\n",
       "      <td>0.970778</td>\n",
       "      <td>0.966673</td>\n",
       "      <td>0.981518</td>\n",
       "      <td>0.973993</td>\n",
       "    </tr>\n",
       "    <tr>\n",
       "      <th>24</th>\n",
       "      <td>100.0</td>\n",
       "      <td>25.0</td>\n",
       "      <td>0.989889</td>\n",
       "      <td>0.000318</td>\n",
       "      <td>0.971411</td>\n",
       "      <td>0.012303</td>\n",
       "      <td>0.971411</td>\n",
       "      <td>0.967191</td>\n",
       "      <td>0.982157</td>\n",
       "      <td>0.974568</td>\n",
       "    </tr>\n",
       "    <tr>\n",
       "      <th>25</th>\n",
       "      <td>150.0</td>\n",
       "      <td>5.0</td>\n",
       "      <td>0.989889</td>\n",
       "      <td>0.000318</td>\n",
       "      <td>0.971863</td>\n",
       "      <td>0.011233</td>\n",
       "      <td>0.971863</td>\n",
       "      <td>0.968383</td>\n",
       "      <td>0.981663</td>\n",
       "      <td>0.974919</td>\n",
       "    </tr>\n",
       "    <tr>\n",
       "      <th>26</th>\n",
       "      <td>150.0</td>\n",
       "      <td>10.0</td>\n",
       "      <td>0.989889</td>\n",
       "      <td>0.000318</td>\n",
       "      <td>0.971502</td>\n",
       "      <td>0.010593</td>\n",
       "      <td>0.971502</td>\n",
       "      <td>0.968062</td>\n",
       "      <td>0.981352</td>\n",
       "      <td>0.974605</td>\n",
       "    </tr>\n",
       "    <tr>\n",
       "      <th>27</th>\n",
       "      <td>150.0</td>\n",
       "      <td>15.0</td>\n",
       "      <td>0.989889</td>\n",
       "      <td>0.000318</td>\n",
       "      <td>0.972135</td>\n",
       "      <td>0.012126</td>\n",
       "      <td>0.972135</td>\n",
       "      <td>0.968457</td>\n",
       "      <td>0.982163</td>\n",
       "      <td>0.975202</td>\n",
       "    </tr>\n",
       "    <tr>\n",
       "      <th>28</th>\n",
       "      <td>150.0</td>\n",
       "      <td>20.0</td>\n",
       "      <td>0.989889</td>\n",
       "      <td>0.000318</td>\n",
       "      <td>0.971140</td>\n",
       "      <td>0.012238</td>\n",
       "      <td>0.971140</td>\n",
       "      <td>0.967532</td>\n",
       "      <td>0.981354</td>\n",
       "      <td>0.974317</td>\n",
       "    </tr>\n",
       "    <tr>\n",
       "      <th>29</th>\n",
       "      <td>150.0</td>\n",
       "      <td>25.0</td>\n",
       "      <td>0.989889</td>\n",
       "      <td>0.000318</td>\n",
       "      <td>0.970507</td>\n",
       "      <td>0.012303</td>\n",
       "      <td>0.970507</td>\n",
       "      <td>0.967457</td>\n",
       "      <td>0.980223</td>\n",
       "      <td>0.973745</td>\n",
       "    </tr>\n",
       "  </tbody>\n",
       "</table>\n",
       "</div>"
      ],
      "text/plain": [
       "    número de arboles  ...  f1_score\n",
       "0                 5.0  ...  0.971288\n",
       "1                 5.0  ...  0.970527\n",
       "2                 5.0  ...  0.970380\n",
       "3                 5.0  ...  0.972411\n",
       "4                 5.0  ...  0.970763\n",
       "5                10.0  ...  0.973737\n",
       "6                10.0  ...  0.973900\n",
       "7                10.0  ...  0.972535\n",
       "8                10.0  ...  0.972462\n",
       "9                10.0  ...  0.972684\n",
       "10               20.0  ...  0.975347\n",
       "11               20.0  ...  0.974702\n",
       "12               20.0  ...  0.974308\n",
       "13               20.0  ...  0.973258\n",
       "14               20.0  ...  0.973541\n",
       "15               50.0  ...  0.975497\n",
       "16               50.0  ...  0.975101\n",
       "17               50.0  ...  0.974778\n",
       "18               50.0  ...  0.973802\n",
       "19               50.0  ...  0.973644\n",
       "20              100.0  ...  0.975552\n",
       "21              100.0  ...  0.974858\n",
       "22              100.0  ...  0.975374\n",
       "23              100.0  ...  0.973993\n",
       "24              100.0  ...  0.974568\n",
       "25              150.0  ...  0.974919\n",
       "26              150.0  ...  0.974605\n",
       "27              150.0  ...  0.975202\n",
       "28              150.0  ...  0.974317\n",
       "29              150.0  ...  0.973745\n",
       "\n",
       "[30 rows x 10 columns]"
      ]
     },
     "execution_count": 39,
     "metadata": {
      "tags": []
     },
     "output_type": "execute_result"
    }
   ],
   "source": [
    "arboles = [5,10,20,50,100, 150]\n",
    "variables_seleccion = [5,10,15,20,25]\n",
    "resultados_rf, matrisRF= experimentar_rf(arboles, variables_seleccion, X, Y)\n",
    "resultados_rf"
   ]
  },
  {
   "cell_type": "markdown",
   "metadata": {
    "id": "6vI1qoYX-e__"
   },
   "source": [
    "Mejor resultado Random Forest"
   ]
  },
  {
   "cell_type": "code",
   "execution_count": null,
   "metadata": {
    "colab": {
     "base_uri": "https://localhost:8080/",
     "height": 112
    },
    "id": "8ifqbv55a4wU",
    "outputId": "28b613b0-ad43-488a-d42a-75f39432b69e"
   },
   "outputs": [
    {
     "name": "stdout",
     "output_type": "stream",
     "text": [
      "termina para 50 arboles\n"
     ]
    },
    {
     "data": {
      "text/html": [
       "<div>\n",
       "<style scoped>\n",
       "    .dataframe tbody tr th:only-of-type {\n",
       "        vertical-align: middle;\n",
       "    }\n",
       "\n",
       "    .dataframe tbody tr th {\n",
       "        vertical-align: top;\n",
       "    }\n",
       "\n",
       "    .dataframe thead th {\n",
       "        text-align: right;\n",
       "    }\n",
       "</style>\n",
       "<table border=\"1\" class=\"dataframe\">\n",
       "  <thead>\n",
       "    <tr style=\"text-align: right;\">\n",
       "      <th></th>\n",
       "      <th>número de arboles</th>\n",
       "      <th>variables para la selección del mejor umbral</th>\n",
       "      <th>eficiencia de entrenamiento</th>\n",
       "      <th>desviacion estandar entrenamiento</th>\n",
       "      <th>eficiencia de prueba</th>\n",
       "      <th>Intervalo de confianza (prueba)</th>\n",
       "      <th>accuracy real</th>\n",
       "      <th>precision_score</th>\n",
       "      <th>recall_score</th>\n",
       "      <th>f1_score</th>\n",
       "    </tr>\n",
       "  </thead>\n",
       "  <tbody>\n",
       "    <tr>\n",
       "      <th>0</th>\n",
       "      <td>50.0</td>\n",
       "      <td>5.0</td>\n",
       "      <td>0.989879</td>\n",
       "      <td>0.000305</td>\n",
       "      <td>0.972135</td>\n",
       "      <td>0.01103</td>\n",
       "      <td>0.972135</td>\n",
       "      <td>0.968366</td>\n",
       "      <td>0.982164</td>\n",
       "      <td>0.975172</td>\n",
       "    </tr>\n",
       "  </tbody>\n",
       "</table>\n",
       "</div>"
      ],
      "text/plain": [
       "   número de arboles  ...  f1_score\n",
       "0               50.0  ...  0.975172\n",
       "\n",
       "[1 rows x 10 columns]"
      ]
     },
     "execution_count": 40,
     "metadata": {
      "tags": []
     },
     "output_type": "execute_result"
    }
   ],
   "source": [
    "arboles = [50]\n",
    "variables_seleccion = [5]\n",
    "resultados_rf, matrisRF = experimentar_rf(arboles, variables_seleccion, X, Y)\n",
    "resultados_rf"
   ]
  },
  {
   "cell_type": "markdown",
   "metadata": {
    "id": "0hp4wg2d-UAP"
   },
   "source": [
    "Matriz de confusión Random Forest"
   ]
  },
  {
   "cell_type": "code",
   "execution_count": null,
   "metadata": {
    "colab": {
     "base_uri": "https://localhost:8080/",
     "height": 330
    },
    "id": "3cO-hUU1Z1gp",
    "outputId": "305e44e4-4a41-4843-9db5-51cf5b70ab4f"
   },
   "outputs": [
    {
     "name": "stdout",
     "output_type": "stream",
     "text": [
      "[[0.95957534 0.04042466]\n",
      " [0.01786584 0.98213416]]\n"
     ]
    },
    {
     "data": {
      "image/png": "[encoded data removed]",
      "text/plain": [
       "<Figure size 432x288 with 2 Axes>"
      ]
     },
     "metadata": {
      "tags": []
     },
     "output_type": "display_data"
    }
   ],
   "source": [
    "calcularMatrizCF(matrisRF, \"Matriz de confusión RF\")"
   ]
  }
 ],
 "metadata": {
  "colab": {
   "collapsed_sections": [],
   "name": "Proyecto final.ipynb",
   "provenance": [],
   "toc_visible": true
  },
  "kernelspec": {
   "display_name": "Python 3",
   "language": "python",
   "name": "python3"
  },
  "language_info": {
   "codemirror_mode": {
    "name": "ipython",
    "version": 3
   },
   "file_extension": ".py",
   "mimetype": "text/x-python",
   "name": "python",
   "nbconvert_exporter": "python",
   "pygments_lexer": "ipython3",
   "version": "3.8.8"
  }
 },
 "nbformat": 4,
 "nbformat_minor": 4
}
